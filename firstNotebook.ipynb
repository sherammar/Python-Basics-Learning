{
 "cells": [
  {
   "cell_type": "code",
   "execution_count": 2,
   "id": "f645d7e3-f0dd-48de-8475-a56d742c43a9",
   "metadata": {},
   "outputs": [
    {
     "name": "stdout",
     "output_type": "stream",
     "text": [
      "Hello Ammar\n"
     ]
    }
   ],
   "source": [
    "print(\"Hello Ammar\")"
   ]
  },
  {
   "cell_type": "code",
   "execution_count": 2,
   "id": "454418ed-f8ce-4a60-99c6-92f9506468a1",
   "metadata": {},
   "outputs": [
    {
     "name": "stdout",
     "output_type": "stream",
     "text": [
      "10 15 Ammar True\n",
      "<class 'int'> <class 'int'> <class 'str'> <class 'bool'>\n"
     ]
    }
   ],
   "source": [
    "a = 10\n",
    "b = 15\n",
    "name = \"Ammar\"\n",
    "is_graduate = True\n",
    "print(a, b, name, is_graduate)\n",
    "print(type(a), type(b), type(name), type(is_graduate))"
   ]
  },
  {
   "cell_type": "code",
   "execution_count": 11,
   "id": "471f574e-7848-42f7-8ead-ac485b377b69",
   "metadata": {},
   "outputs": [
    {
     "name": "stdout",
     "output_type": "stream",
     "text": [
      "The sum is :  19\n",
      "Difference is :  11\n",
      "Product is :  60\n",
      "Division is :  3.75\n"
     ]
    }
   ],
   "source": [
    "x = 15\n",
    "y = 4\n",
    "# calculating sum, difference, product and division\n",
    "# Sum\n",
    "sum = x + y\n",
    "print(\"The sum is : \", sum)\n",
    "\n",
    "# Difference\n",
    "difference = x - y\n",
    "print(\"Difference is : \", difference)\n",
    "\n",
    "# product\n",
    "product = x * y \n",
    "print(\"Product is : \", product)\n",
    "\n",
    "#division\n",
    "division = x / y\n",
    "print(\"Division is : \", division)"
   ]
  },
  {
   "cell_type": "code",
   "execution_count": 14,
   "id": "b2ab51d3-6dc2-4d39-be74-4b406e8cbea9",
   "metadata": {},
   "outputs": [
    {
     "name": "stdout",
     "output_type": "stream",
     "text": [
      "My Full Name is :  AmmarYasir\n",
      "Name in Uppercase :  AMMARYASIR\n"
     ]
    }
   ],
   "source": [
    "first = \"Ammar\"\n",
    "last = \"Yasir\"\n",
    "\n",
    "#joining them with a space, making it uppercase\n",
    "\n",
    "#joining\n",
    "full_name = first + last\n",
    "print(\"My Full Name is : \", full_name)\n",
    "\n",
    "#making it uppercase\n",
    "capital = full_name.upper()\n",
    "print(\"Name in Uppercase : \", capital)"
   ]
  },
  {
   "cell_type": "code",
   "execution_count": 16,
   "id": "1bbc101b-f10c-4511-8de7-8499a0f49bdc",
   "metadata": {},
   "outputs": [
    {
     "name": "stdout",
     "output_type": "stream",
     "text": [
      "Ammar is not available\n"
     ]
    }
   ],
   "source": [
    "is_graduated = True\n",
    "is_employed = True\n",
    "# checking if Ammar is available for new opportunities\n",
    "\n",
    "if is_graduated and not is_employed:\n",
    "    print(\"Ammar is available For new opportunities\")\n",
    "else:\n",
    "    print(\"Ammar is not available\")"
   ]
  },
  {
   "cell_type": "code",
   "execution_count": 27,
   "id": "6be8b0e0-a7e5-480a-83a6-c01d6b9b6bfb",
   "metadata": {},
   "outputs": [
    {
     "name": "stdin",
     "output_type": "stream",
     "text": [
      " 5\n"
     ]
    },
    {
     "name": "stdout",
     "output_type": "stream",
     "text": [
      "Child\n"
     ]
    }
   ],
   "source": [
    "# CONDITIONALS\n",
    "#Write a program that checks if a person’s age is:\n",
    "\n",
    " # less than 13 → \"Child\"\n",
    "\n",
    "#  between 13 and 19 → \"Teenager\"\n",
    "\n",
    " # 20 or above → \"Adult\"\n",
    "##\n",
    "\n",
    "age = int(input())\n",
    "if age < 13:\n",
    "    print(\"Child\")\n",
    "elif age >= 13 and age <= 19:\n",
    "    print(\"Teenager\")\n",
    "elif age >= 20:\n",
    "    print(\"Adult\")\n",
    "else:\n",
    "    print(\"Invalid Input!\")"
   ]
  },
  {
   "cell_type": "code",
   "execution_count": 32,
   "id": "1b9fedc0-5339-4bf9-93a3-b3fb719d8b53",
   "metadata": {},
   "outputs": [
    {
     "name": "stdin",
     "output_type": "stream",
     "text": [
      " 500\n"
     ]
    },
    {
     "name": "stdout",
     "output_type": "stream",
     "text": [
      "You get a 10% discount\n"
     ]
    }
   ],
   "source": [
    "# Exercise 2 – Discount System\n",
    "# You’re buying items from a store.\n",
    "\n",
    "# If the bill is more than 500, print \"You get a 20% discount!\"\n",
    "\n",
    "# Else if the bill is more than 200, print \"You get a 10% discount!\"\n",
    "\n",
    "# Otherwise, print \"No discount available.\" \n",
    "\n",
    "bill = int(input())\n",
    "if bill > 500:\n",
    "    print(\"You get a 20% discount\")\n",
    "elif bill > 200:\n",
    "    print(\"You get a 10% discount\")\n",
    "else:\n",
    "    print(\"No discount available\")"
   ]
  },
  {
   "cell_type": "code",
   "execution_count": 47,
   "id": "d10edc12-7261-47dd-a81c-d7dfedaf90c0",
   "metadata": {},
   "outputs": [
    {
     "name": "stdin",
     "output_type": "stream",
     "text": [
      " false\n",
      " false\n"
     ]
    },
    {
     "name": "stdout",
     "output_type": "stream",
     "text": [
      "Let's Play cricket\n"
     ]
    }
   ],
   "source": [
    "# Create two boolean variables:\n",
    "\n",
    "# likes_cricket = True\n",
    "# has_time = False\n",
    "\n",
    "\n",
    "# If Ammar likes cricket and has time → print \"Let's play cricket!\"\n",
    "\n",
    "# Else if Ammar likes cricket but doesn’t have time → print \"Maybe just watch a match.\"\n",
    "\n",
    "# Else → print \"Not a cricket fan today.\"\n",
    "likes_cricket =bool(input()) \n",
    "has_time = bool(input())\n",
    "if likes_cricket and has_time:\n",
    "    print(\"Let's Play cricket\")\n",
    "elif likes_cricket and not has_time:\n",
    "    print(\"Maybe just watch a match\")\n",
    "else:\n",
    "    print(\"Not a cricket fan today\")"
   ]
  },
  {
   "cell_type": "code",
   "execution_count": 4,
   "id": "14418b9b-7341-4809-af2f-7932d0caa59e",
   "metadata": {},
   "outputs": [
    {
     "name": "stdin",
     "output_type": "stream",
     "text": [
      "Do you enjoy coding? yes/no  no\n",
      "Do you want to learn python deeply? yes/no  yes\n"
     ]
    },
    {
     "name": "stdout",
     "output_type": "stream",
     "text": [
      "No worries, explore what excites you most\n"
     ]
    }
   ],
   "source": [
    "# # Mini Excercise\n",
    "# Final Mini-Exercise (Boolean Input Practice)\n",
    "\n",
    "# 👉 Write a program that asks:\n",
    "\n",
    "# \"Do you enjoy coding? (yes/no)\"\n",
    "\n",
    "# \"Do you want to learn Python deeply? (yes/no)\"\n",
    "\n",
    "# Rules:\n",
    "\n",
    "# If both are yes → print \"Great! You’re on the right track 🚀\"\n",
    "\n",
    "# If enjoys coding but doesn’t want deep Python → print \"Maybe try exploring other areas of tech 🤔\"\n",
    "\n",
    "# Otherwise → print \"No worries, explore what excites you most 👍\"\n",
    "\n",
    "\n",
    "enjoy_coding = input(\"Do you enjoy coding? yes/no \").lower() == \"yes\"\n",
    "deep_python = input(\"Do you want to learn python deeply? yes/no \").lower() == \"yes\"\n",
    "\n",
    "if enjoy_coding and deep_python:\n",
    "    print(\"Great You are on the right track\")\n",
    "elif enjoy_coding and not deep_python:\n",
    "    print(\"Maybe try exploring other areas of tech\")\n",
    "else:\n",
    "    print(\"No worries, explore what excites you most\")"
   ]
  },
  {
   "cell_type": "code",
   "execution_count": null,
   "id": "d843eb18-507c-4726-a878-856c4036d9ef",
   "metadata": {},
   "outputs": [],
   "source": []
  }
 ],
 "metadata": {
  "kernelspec": {
   "display_name": "Python 3 (ipykernel)",
   "language": "python",
   "name": "python3"
  },
  "language_info": {
   "codemirror_mode": {
    "name": "ipython",
    "version": 3
   },
   "file_extension": ".py",
   "mimetype": "text/x-python",
   "name": "python",
   "nbconvert_exporter": "python",
   "pygments_lexer": "ipython3",
   "version": "3.12.3"
  }
 },
 "nbformat": 4,
 "nbformat_minor": 5
}
